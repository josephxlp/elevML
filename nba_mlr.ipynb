{
 "cells": [
  {
   "cell_type": "code",
   "execution_count": 1,
   "id": "566f1183",
   "metadata": {},
   "outputs": [
    {
     "name": "stdout",
     "output_type": "stream",
     "text": [
      "----------- stated multiple_regression_analysis... --------------\n",
      "----------- 1. dependent preprocessing ... --------------\n",
      "----------- 2. covars preprocessing ... --------------\n",
      "----------- 3. coords preprocessing ... --------------\n",
      "----------- 4. data preprocessing ... --------------\n",
      "----------- 5. feature ops selection ... --------------\n",
      "----------- 6. data modelling ... --------------\n",
      "----------- 7.1 data prediction saving  ... --------------\n",
      "----------- 7.2 data residual saving  ... --------------\n",
      "----------- 8. model prediction saving  ... --------------\n",
      "----------- 8. cross-validation model ... --------------\n",
      "[Multi-Regression-Analysis]Start time: Thu Jan  1 01:00:21 1970\n",
      "[Multi-Regression-Analysis]End time: Thu Jan  1 02:33:34 1970\n",
      "[Multi-Regression-Analysis]Elapsed time: 5592.44 sec | 93.21 min | 1.55 hrs | 0.06 days\n"
     ]
    }
   ],
   "source": [
    "import os \n",
    "if __name__ == \"__main__\":\n",
    "    import uvars\n",
    "    from wf_multivar_regression import multiple_regression_analysis\n",
    "\n",
    "    odir = os.path.join(uvars.wdir, 'out')\n",
    "    os.makedirs(odir, exist_ok=True)\n",
    "\n",
    "    regression_tif = os.path.join(odir, f'{os.path.basename(uvars.dependent_tif)[:-4]}_reg.tif')\n",
    "    residuals_tif = regression_tif.replace('_reg.tif', 'res.tif')\n",
    "\n",
    "    trained_coeffs_path, _ = multiple_regression_analysis(\n",
    "        dependent_path=uvars.dependent_tif,\n",
    "        predictor_paths=uvars.predictors_tif_list,\n",
    "        output_regression_path=regression_tif,\n",
    "        output_residuals_path=residuals_tif,\n",
    "        include_xy=True,\n",
    "        method='forward',\n",
    "        p_value=5,\n",
    "        crossval=0)\n",
    "\n",
    "    if trained_coeffs_path:\n",
    "        pass\n",
    "    else:\n",
    "        exit()"
   ]
  },
  {
   "cell_type": "code",
   "execution_count": null,
   "id": "51791c1d",
   "metadata": {},
   "outputs": [],
   "source": []
  }
 ],
 "metadata": {
  "kernelspec": {
   "display_name": "agluon",
   "language": "python",
   "name": "python3"
  },
  "language_info": {
   "codemirror_mode": {
    "name": "ipython",
    "version": 3
   },
   "file_extension": ".py",
   "mimetype": "text/x-python",
   "name": "python",
   "nbconvert_exporter": "python",
   "pygments_lexer": "ipython3",
   "version": "3.11.11"
  }
 },
 "nbformat": 4,
 "nbformat_minor": 5
}
