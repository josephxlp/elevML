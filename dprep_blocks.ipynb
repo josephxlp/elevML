{
 "cells": [
  {
   "cell_type": "code",
   "execution_count": 1,
   "id": "143428ac",
   "metadata": {},
   "outputs": [],
   "source": [
    "import os \n",
    "from uprep import tic, toc, print_timing\n",
    "from uprep import tilenames_tls,riofill \n",
    "from uprep import (merge_tile_files,match_raster_to_reference,\n",
    "                   clip_raster_to_template,clip_raster_to_template_extent,\n",
    "                   parallel_merge_all,Fdod,raster_calc)\n",
    "from uvars import archive_dir\n",
    "from glob import glob\n",
    "\n",
    "\n",
    "tile12dir = '/media/ljp238/12TBWolf/BRCHIEVE/TILES12'\n",
    "mosaic_dir = \"/media/ljp238/12TBWolf/BRCHIEVE/GDEM/BLOCK/TLS/mosaik\" #mosaic\n",
    "#give the data better names\n",
    "vnamelist = ['tdem_dem_egm_v_3_gap','tdem_dem_egm','edem_egm',\n",
    "             'tdem_hem','esawc','esawc_x','s1', 's2', \n",
    "             'lgeoid','ldem','ldem_egm','egm08'\n",
    "             ]#'tdem_dem_egm_v_3_gap_gF3_0_100_inv_dist',\n",
    "\n",
    "# clean this \n",
    "# compress and upload  to OndeDrive / SharePoint to use in WX2 \n",
    "\n",
    "\n",
    "tdem_fs = glob(f\"{archive_dir}/DEMsProducts/TDEMX/*/DEM/*_DEM.tif\")\n",
    "edem_fs  =  glob(f\"{archive_dir}/DEMsProducts/EDEMx/TILES/comprexn/*/EDEM/*_EDEM_EGM.tif\")\n",
    "gdtm_v_fn = f\"{archive_dir}/TargetProducts/GEDI/GRID/comprexn/GEDI_L3_be/GEDI03_elev_lowestmode_mean_2019108_2022019_002_03_EPSG4326.tif\"\n",
    "geoid_fn = f\"{archive_dir}/AUXsProducts/GEOID/GLOBAL/us_nga_egm2008_1.tif\""
   ]
  },
  {
   "cell_type": "code",
   "execution_count": 2,
   "id": "07412c72",
   "metadata": {},
   "outputs": [
    {
     "name": "stdout",
     "output_type": "stream",
     "text": [
      "['N11E104', 'N11E105', 'N12E103', 'N12E104', 'N12E105', 'N13E103', 'N13E104', 'N13E105']\n",
      "---- Brchieve files @merge ----\n",
      "Processing pattern: /media/ljp238/12TBWolf/BRCHIEVE/TILES12/*/*tdem_dem_egm.tif, found 17 files.Processing pattern: /media/ljp238/12TBWolf/BRCHIEVE/TILES12/*/*tdem_dem_egm_v_3_gap.tif, found 17 files.Processing pattern: /media/ljp238/12TBWolf/BRCHIEVE/TILES12/*/*ldem.tif, found 17 files.Processing pattern: /media/ljp238/12TBWolf/BRCHIEVE/TILES12/*/*edem_egm.tif, found 17 files.Processing pattern: /media/ljp238/12TBWolf/BRCHIEVE/TILES12/*/*s2.tif, found 17 files.Processing pattern: /media/ljp238/12TBWolf/BRCHIEVE/TILES12/*/*esawc_x.tif, found 17 files.Processing pattern: /media/ljp238/12TBWolf/BRCHIEVE/TILES12/*/*tdem_hem.tif, found 17 files.Processing pattern: /media/ljp238/12TBWolf/BRCHIEVE/TILES12/*/*s1.tif, found 17 files.Processing pattern: /media/ljp238/12TBWolf/BRCHIEVE/TILES12/*/*esawc.tif, found 17 files.Processing pattern: /media/ljp238/12TBWolf/BRCHIEVE/TILES12/*/*lgeoid.tif, found 17 files.\n",
      "\n",
      "\n",
      "\n",
      "\n",
      "\n",
      "\n",
      "\n",
      "\n",
      "\n",
      "Processing tdem_dem_egm files...Processing ldem files...Processing edem_egm files...Processing tdem_dem_egm_v_3_gap files...Processing s2 files...Processing s1 files...Processing esawc_x files...Processing esawc files...Processing lgeoid files...Processing tdem_hem files...\n",
      "\n",
      "\n",
      "\n",
      "\n",
      "\n",
      "\n",
      "\n",
      "\n",
      "\n",
      "length of vtfile: 8length of vtfile: 8length of vtfile: 8length of vtfile: 8length of vtfile: 8length of vtfile: 8length of vtfile: 8length of vtfile: 8length of vtfile: 8length of vtfile: 8\n",
      "\n",
      "\n",
      "\n",
      "\n",
      "\n",
      "\n",
      "\n",
      "\n",
      "----Mosaic the files----\n",
      "----Mosaic the files--------Mosaic the files--------Mosaic the files--------Mosaic the files--------Mosaic the files--------Mosaic the files--------Mosaic the files--------Mosaic the files----\n",
      "\n",
      "----Mosaic the files----\n",
      "\n",
      "\n",
      "\n",
      "\n",
      "\n",
      "vname: /media/ljp238/12TBWolf/BRCHIEVE/GDEM/BLOCK/TLS/mosaik/TDEM_DEM_EGM.tif\n",
      "vname: /media/ljp238/12TBWolf/BRCHIEVE/GDEM/BLOCK/TLS/mosaik/EDEM_EGM.tif\n",
      "vname: /media/ljp238/12TBWolf/BRCHIEVE/GDEM/BLOCK/TLS/mosaik/TDEM_DEM_EGM_V_3_GAP.tifvname: /media/ljp238/12TBWolf/BRCHIEVE/GDEM/BLOCK/TLS/mosaik/LDEM.tifvname: /media/ljp238/12TBWolf/BRCHIEVE/GDEM/BLOCK/TLS/mosaik/S1.tifvname: /media/ljp238/12TBWolf/BRCHIEVE/GDEM/BLOCK/TLS/mosaik/S2.tifvname: /media/ljp238/12TBWolf/BRCHIEVE/GDEM/BLOCK/TLS/mosaik/LGEOID.tifvname: /media/ljp238/12TBWolf/BRCHIEVE/GDEM/BLOCK/TLS/mosaik/ESAWC_X.tif\n",
      "vname: /media/ljp238/12TBWolf/BRCHIEVE/GDEM/BLOCK/TLS/mosaik/TDEM_HEM.tif\n",
      "\n",
      "vname: /media/ljp238/12TBWolf/BRCHIEVE/GDEM/BLOCK/TLS/mosaik/ESAWC.tif\n",
      "\n",
      "\n",
      "\n",
      "\n",
      "\n",
      "\n",
      "Processing pattern: /media/ljp238/12TBWolf/BRCHIEVE/TILES12/*/*ldem_egm.tif, found 17 files.Processing pattern: /media/ljp238/12TBWolf/BRCHIEVE/TILES12/*/*egm08.tif, found 17 files.\n",
      "\n",
      "Processing ldem_egm files...Processing egm08 files...\n",
      "\n",
      "length of vtfile: 8length of vtfile: 8\n",
      "\n",
      "----Mosaic the files--------Mosaic the files----\n",
      "\n",
      "vname: /media/ljp238/12TBWolf/BRCHIEVE/GDEM/BLOCK/TLS/mosaik/LDEM_EGM.tifvname: /media/ljp238/12TBWolf/BRCHIEVE/GDEM/BLOCK/TLS/mosaik/EGM08.tif\n",
      "\n"
     ]
    }
   ],
   "source": [
    "print(tilenames_tls)\n",
    "os.makedirs(mosaic_dir, exist_ok=True)\n",
    "print('---- Brchieve files @merge ----')\n",
    "parallel_merge_all(vnamelist, tile12dir, mosaic_dir, tilenames_tls,ncpu=10)"
   ]
  },
  {
   "cell_type": "code",
   "execution_count": 3,
   "id": "f1b76c2e",
   "metadata": {},
   "outputs": [],
   "source": [
    "from xSimpleGapFill import gfill_with_data,run_gdal_fillnodata\n",
    "method = \"inv_dist\" #[\"nearest\",\"inv_dist\"]"
   ]
  },
  {
   "cell_type": "code",
   "execution_count": 4,
   "id": "33a6de73",
   "metadata": {},
   "outputs": [
    {
     "name": "stdout",
     "output_type": "stream",
     "text": [
      "19 files in mosaic dir\n"
     ]
    }
   ],
   "source": [
    "files = glob(f'{mosaic_dir}/*.tif'); print(len(files), 'files in mosaic dir')"
   ]
  },
  {
   "cell_type": "code",
   "execution_count": 5,
   "id": "366a5432",
   "metadata": {},
   "outputs": [],
   "source": [
    "# clip the other variables for the block from vrt to the extent "
   ]
  },
  {
   "cell_type": "code",
   "execution_count": 6,
   "id": "b481079e",
   "metadata": {},
   "outputs": [
    {
     "name": "stdout",
     "output_type": "stream",
     "text": [
      "Output file /media/ljp238/12TBWolf/BRCHIEVE/GDEM/BLOCK/TLS/mosaik/TDEM_DEM_EGM_V_3_GAP_gF2.tif already exists. Skipping processing.\n"
     ]
    },
    {
     "data": {
      "text/plain": [
       "'/media/ljp238/12TBWolf/BRCHIEVE/GDEM/BLOCK/TLS/mosaik/TDEM_DEM_EGM_V_3_GAP_gF2.tif'"
      ]
     },
     "execution_count": 6,
     "metadata": {},
     "output_type": "execute_result"
    }
   ],
   "source": [
    "EGM08 = [i for i in files if 'EGM08.tif' in i][0]\n",
    "ESAWC = [i for i in files if 'ESAWC.tif' in i][0]\n",
    "TDEM_gap = fi = [i for i in files if 'TDEM_DEM_EGM_V_3_GAP.tif' in i][0] \n",
    "\n",
    "\n",
    "f1 = f\"{mosaic_dir}/{os.path.basename(fi)[:-4]}_gF1.tif\" # zero\n",
    "f2 = f\"{mosaic_dir}/{os.path.basename(fi)[:-4]}_gF2.tif\" # egm \n",
    "f3 = f\"{mosaic_dir}/{os.path.basename(fi)[:-4]}_gF3.tif\" # iwd\n",
    "\n",
    "gfill_with_data(fi, fi_fill=EGM08, esa=ESAWC, fo=f2, \n",
    "                fo_mask=None, chunk_size=1024, \n",
    "                threshold=-30, nodata_out=-9999)"
   ]
  },
  {
   "cell_type": "code",
   "execution_count": 7,
   "id": "d3835c50",
   "metadata": {},
   "outputs": [
    {
     "name": "stdout",
     "output_type": "stream",
     "text": [
      "Infile ... /media/ljp238/12TBWolf/BRCHIEVE/GDEM/BLOCK/TLS/mosaik/TDEM_DEM_EGM_V_3_GAP_gF3.tif\n",
      "Output file /media/ljp238/12TBWolf/BRCHIEVE/GDEM/BLOCK/TLS/mosaik/TDEM_DEM_EGM_V_3_GAP_gF3_0_100_inv_dist.tif already exists. Skipping processing.\n"
     ]
    }
   ],
   "source": [
    "f3fill = run_gdal_fillnodata(src_path=f2, dst_path=f3, \n",
    "                    md=100, si=0,method=method, output_format=\"GTiff\", band=1)"
   ]
  },
  {
   "cell_type": "code",
   "execution_count": 8,
   "id": "5518d128",
   "metadata": {},
   "outputs": [],
   "source": [
    "#GDEM "
   ]
  },
  {
   "cell_type": "code",
   "execution_count": 9,
   "id": "f34ab9f4",
   "metadata": {},
   "outputs": [
    {
     "name": "stdout",
     "output_type": "stream",
     "text": [
      "/media/ljp238/12TBWolf/BRCHIEVE/GDEM/BLOCK/TLS/mosaik/EGM08_12m.tif already exists, skipping creation.\n",
      "/media/ljp238/12TBWolf/BRCHIEVE/GDEM/BLOCK/TLS/mosaik/EGM08_1Km.tif already exists, skipping creation.\n"
     ]
    }
   ],
   "source": [
    "block_geoid1k = f\"{mosaic_dir}/EGM08_1Km.tif\"\n",
    "block_geoid12 = f\"{mosaic_dir}/EGM08_12m.tif\"\n",
    "# tdem_wgs_a_fn>TDEM_gap\n",
    "\n",
    "if os.path.isfile(block_geoid12):\n",
    "    print(f\"{block_geoid12} already exists, skipping creation.\")\n",
    "else:\n",
    "    clip_raster_to_template(geoid_fn, TDEM_gap,block_geoid12)\n",
    "\n",
    "if os.path.isfile(block_geoid1k):\n",
    "    print(f\"{block_geoid1k} already exists, skipping creation.\")\n",
    "else:\n",
    "    clip_raster_to_template_extent(geoid_fn, TDEM_gap, block_geoid1k)\n",
    "# this are not aliinged , so we need to make sure they are aligned"
   ]
  },
  {
   "cell_type": "code",
   "execution_count": 19,
   "id": "c7661524",
   "metadata": {},
   "outputs": [
    {
     "name": "stdout",
     "output_type": "stream",
     "text": [
      "/media/ljp238/12TBWolf/BRCHIEVE/GDEM/BLOCK/TLS/mosaik/GEDI03_vdtm_WGS_1Km.tif already exists, skipping creation.\n",
      "---- Filling files @Gdem ----\n",
      "---- Transforming Href files @Gdem ----\n"
     ]
    }
   ],
   "source": [
    "block_gdtmv = f\"{mosaic_dir}/GEDI03_vdtm_WGS_1Km.tif\"\n",
    "block_gdtmf = f\"{mosaic_dir}/GEDI03_fdtm_WGS_1Km.tif\"\n",
    "\n",
    "# this filling only clips the raster to the template extent\n",
    "if os.path.isfile(block_gdtmv):\n",
    "    print(f\"{block_gdtmv} already exists, skipping creation.\")\n",
    "else:\n",
    "    clip_raster_to_template_extent(gdtm_v_fn, TDEM_gap, block_gdtmv)\n",
    "    # tdem_wgs_a_fn>TDEM_gap\n",
    "\n",
    "print('---- Filling files @Gdem ----')\n",
    "if not os.path.isfile(block_gdtmf):\n",
    "    print(f\"Filling... {block_gdtmf}\")\n",
    "    riofill(block_gdtmv, block_gdtmf, si=0) # replace by IWD\n",
    "\n",
    "\n",
    "print('---- Transforming Href files @Gdem ----')\n",
    "block_gdtmf_egm = f\"{mosaic_dir}/GEDI03_fdtm_EGM_1Km.tif\"\n",
    "if not os.path.isfile(block_gdtmf_egm):\n",
    "    print(f\"Transforming... {block_gdtmf_egm}\")\n",
    "    Fdod(fine_path=block_gdtmf, coarse_path=EGM08, output_path=block_gdtmf_egm) \n",
    "    # may be the function inside Ffod is missalinging them \n",
    "    # block_geoid > EGM08 this one is alighed but error due to gdem covering all \n",
    "    # block_geoid > block_geoid1k\n",
    "    print(block_gdtmf_egm)"
   ]
  },
  {
   "cell_type": "code",
   "execution_count": 20,
   "id": "79caa1a4",
   "metadata": {},
   "outputs": [],
   "source": [
    "tdem_r = [i for i in files if 'TDEM_DEM_EGM.tif' in i][0]\n",
    "# DOD : for TDEMX void and filled and EDEM"
   ]
  },
  {
   "cell_type": "code",
   "execution_count": 21,
   "id": "1efe5a2c",
   "metadata": {},
   "outputs": [
    {
     "name": "stdout",
     "output_type": "stream",
     "text": [
      "Output file '/media/ljp238/12TBWolf/BRCHIEVE/GDEM/BLOCK/TLS/mosaik/TDEM_DEM_EGM_V_3_GAP_gF3_0_100_inv_dist_dod.tif' already exists. Skipping operation. Set 'overwrite=True' to force overwrite.\n"
     ]
    }
   ],
   "source": [
    "f3filldod = f3fill.replace('.tif', '_dod.tif')\n",
    "raster_calc(f3fill, block_gdtmf_egm, 'sub', f3filldod, priority='rbpath', overwrite=False)"
   ]
  },
  {
   "cell_type": "code",
   "execution_count": 22,
   "id": "bdbfe254",
   "metadata": {},
   "outputs": [
    {
     "name": "stdout",
     "output_type": "stream",
     "text": [
      "Prioritizing properties from raster2 for reprojection and alignment.\n",
      "Reprojecting '/media/ljp238/12TBWolf/BRCHIEVE/GDEM/BLOCK/TLS/mosaik/TDEM_DEM_EGM.tif' to match '/media/ljp238/12TBWolf/BRCHIEVE/GDEM/BLOCK/TLS/mosaik/GEDI03_fdtm_EGM_1Km.tif'...\n",
      "Reprojection of raster1 complete.\n",
      "Reprojecting '/media/ljp238/12TBWolf/BRCHIEVE/GDEM/BLOCK/TLS/mosaik/GEDI03_fdtm_EGM_1Km.tif' to match '/media/ljp238/12TBWolf/BRCHIEVE/GDEM/BLOCK/TLS/mosaik/GEDI03_fdtm_EGM_1Km.tif'...\n",
      "Reprojection of raster2 complete.\n",
      "Performing 'sub' operation...\n",
      "Operation complete. Writing results...\n",
      "Operation successfully completed. Result saved to: /media/ljp238/12TBWolf/BRCHIEVE/GDEM/BLOCK/TLS/mosaik/TDEM_DEM_EGM_dod.tif\n"
     ]
    }
   ],
   "source": [
    "tdem_rdod = tdem_r.replace('.tif', '_dod.tif')\n",
    "raster_calc(tdem_r, block_gdtmf_egm, 'sub', tdem_rdod, priority='rbpath', overwrite=False)"
   ]
  },
  {
   "cell_type": "code",
   "execution_count": 23,
   "id": "f999a684",
   "metadata": {},
   "outputs": [
    {
     "name": "stdout",
     "output_type": "stream",
     "text": [
      "Prioritizing properties from raster2 for reprojection and alignment.\n",
      "Reprojecting '/media/ljp238/12TBWolf/BRCHIEVE/GDEM/BLOCK/TLS/mosaik/TDEM_DEM_EGM_V_3_GAP.tif' to match '/media/ljp238/12TBWolf/BRCHIEVE/GDEM/BLOCK/TLS/mosaik/GEDI03_fdtm_EGM_1Km.tif'...\n",
      "Reprojection of raster1 complete.\n",
      "Reprojecting '/media/ljp238/12TBWolf/BRCHIEVE/GDEM/BLOCK/TLS/mosaik/GEDI03_fdtm_EGM_1Km.tif' to match '/media/ljp238/12TBWolf/BRCHIEVE/GDEM/BLOCK/TLS/mosaik/GEDI03_fdtm_EGM_1Km.tif'...\n",
      "Reprojection of raster2 complete.\n",
      "Performing 'sub' operation...\n",
      "Operation complete. Writing results...\n",
      "Operation successfully completed. Result saved to: /media/ljp238/12TBWolf/BRCHIEVE/GDEM/BLOCK/TLS/mosaik/TDEM_DEM_EGM_V_3_GAP_dod.tif\n"
     ]
    }
   ],
   "source": [
    "fidod = fi.replace('.tif', '_dod.tif')\n",
    "raster_calc(fi, block_gdtmf_egm, 'sub', fidod, priority='rbpath', overwrite=False)"
   ]
  },
  {
   "cell_type": "code",
   "execution_count": null,
   "id": "6f124967",
   "metadata": {},
   "outputs": [
    {
     "name": "stdout",
     "output_type": "stream",
     "text": [
      "Output file '/media/ljp238/12TBWolf/BRCHIEVE/GDEM/BLOCK/TLS/mosaik/TDEM_DEM_EGM_V_3_GAP_gF3_0_100_inv_dist_dod.tif' already exists. Skipping operation. Set 'overwrite=True' to force overwrite.\n",
      "Error reading or writing raster file: /media/ljp238/12TBWolf/BRCHIEVE/GDEM/BLOCK/TLS/mosaik/GEDI03_fdtm_EGM.tif: No such file or directory\n",
      "Error reading or writing raster file: /media/ljp238/12TBWolf/BRCHIEVE/GDEM/BLOCK/TLS/mosaik/GEDI03_fdtm_EGM.tif: No such file or directory\n"
     ]
    }
   ],
   "source": [
    "\n",
    "\n",
    "\n",
    "fidod = fi.replace('.tif', '_dod.tif')\n",
    "raster_calc(fi, block_gdtmf_egm, 'sub', fidod, priority='rbpath', overwrite=False)\n",
    "fi\n",
    "tdem_r\n",
    "\n",
    "block_gdtmf_egm = f\"{mosaic_dir}/GEDI03_fdtm_EGM.tif\"\n",
    "f3filldod = f3fill.replace('.tif', '_dod.tif')\n",
    "raster_calc(f3fill, block_gdtmf_egm, 'sub', f3filldod, priority='rbpath', overwrite=False)\n",
    "\n",
    "\n",
    "\n",
    "\n",
    "\n"
   ]
  },
  {
   "cell_type": "code",
   "execution_count": null,
   "id": "4e97f234",
   "metadata": {},
   "outputs": [],
   "source": []
  },
  {
   "cell_type": "code",
   "execution_count": 13,
   "id": "c502da48",
   "metadata": {},
   "outputs": [
    {
     "name": "stdout",
     "output_type": "stream",
     "text": [
      "Prioritizing properties from raster2 for reprojection and alignment.\n",
      "Reprojecting '/media/ljp238/12TBWolf/BRCHIEVE/GDEM/BLOCK/TLS/mosaik/TDEM_DEM_EGM_V_3_GAP_gF3_0_100_inv_dist.tif' to match '/media/ljp238/12TBWolf/BRCHIEVE/GDEM/BLOCK/TLS/mosaik/GEDI03_fdtm_EGM_1Km.tif'...\n",
      "Reprojection of raster1 complete.\n",
      "Reprojecting '/media/ljp238/12TBWolf/BRCHIEVE/GDEM/BLOCK/TLS/mosaik/GEDI03_fdtm_EGM_1Km.tif' to match '/media/ljp238/12TBWolf/BRCHIEVE/GDEM/BLOCK/TLS/mosaik/GEDI03_fdtm_EGM_1Km.tif'...\n",
      "Reprojection of raster2 complete.\n",
      "Performing 'sub' operation...\n",
      "Operation complete. Writing results...\n",
      "Operation successfully completed. Result saved to: /media/ljp238/12TBWolf/BRCHIEVE/GDEM/BLOCK/TLS/mosaik/TDEM_DEM_EGM_V_3_GAP_gF3_0_100_inv_dist_dod.tif\n"
     ]
    }
   ],
   "source": [
    "f3dod = f3fill.replace('.tif', '_dod.tif')\n",
    "raster_calc(f3fill, block_gdtmf_egm, 'sub', f3dod, priority='rbpath', overwrite=False)"
   ]
  },
  {
   "cell_type": "code",
   "execution_count": null,
   "id": "e806c852",
   "metadata": {},
   "outputs": [],
   "source": []
  }
 ],
 "metadata": {
  "kernelspec": {
   "display_name": "agluon",
   "language": "python",
   "name": "python3"
  },
  "language_info": {
   "codemirror_mode": {
    "name": "ipython",
    "version": 3
   },
   "file_extension": ".py",
   "mimetype": "text/x-python",
   "name": "python",
   "nbconvert_exporter": "python",
   "pygments_lexer": "ipython3",
   "version": "3.11.11"
  }
 },
 "nbformat": 4,
 "nbformat_minor": 5
}
